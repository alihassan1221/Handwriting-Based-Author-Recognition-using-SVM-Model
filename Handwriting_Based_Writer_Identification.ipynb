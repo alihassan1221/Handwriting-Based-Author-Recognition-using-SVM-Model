{
  "cells": [
    {
      "cell_type": "code",
      "execution_count": null,
      "metadata": {
        "id": "cCD4niuCehwE"
      },
      "outputs": [],
      "source": [
        "import cv2\n",
        "import os\n",
        "import pickle\n",
        "import random\n",
        "import numpy as np\n",
        "from sklearn import svm\n",
        "from scipy import ndimage\n",
        "import matplotlib.pyplot as plt\n",
        "from google.colab.patches import cv2_imshow\n",
        "from sklearn.decomposition import PCA\n",
        "from imblearn.over_sampling import RandomOverSampler\n",
        "from sklearn.model_selection import train_test_split\n",
        "from google.colab.patches import cv2_imshow\n",
        "from sklearn.metrics import accuracy_score"
      ]
    },
    {
      "cell_type": "code",
      "source": [
        "from google.colab import drive\n",
        "drive.mount('/content/drive')"
      ],
      "metadata": {
        "colab": {
          "base_uri": "https://localhost:8080/"
        },
        "id": "R2GSMu0T-hsO",
        "outputId": "5093e0ea-cf9c-459c-c852-9424e88b702b"
      },
      "execution_count": null,
      "outputs": [
        {
          "output_type": "stream",
          "name": "stdout",
          "text": [
            "Mounted at /content/drive\n"
          ]
        }
      ]
    },
    {
      "cell_type": "code",
      "execution_count": null,
      "metadata": {
        "id": "zG1U2YfCeh0b"
      },
      "outputs": [],
      "source": [
        "#Set the path to the dataset\n",
        "dataset_path = \"/content/drive/MyDrive/Data/Writers/\"\n",
        "\n",
        "# Define the path to the folder where preprocessed images will be saved\n",
        "preprocessed_path = '/content/drive/MyDrive/Data/Preprocessed_mages/'\n",
        "\n",
        "# Define the preprocessing techniques to apply\n",
        "preprocessing_techniques = ['grayscale', 'imbalanced_data']\n",
        "\n",
        "# Define the augmentation techniques to apply\n",
        "augmentation_techniques = ['rotate' , 'gaussian_blur', 'flip', 'zoom', 'brightness_adjust', 'resize']\n",
        "\n",
        "# Define augmentation parameters\n",
        "angles = [-10, -5, 5, 10]  # Rotation angles in degrees\n",
        "scales = [0.8, 1.1, 1.3]  # Scaling factors\n",
        "brightness_values = [-25, 25]  # Brightness adjustment values\n",
        "flips = [0, 1, -1]  # Flip codes (0 = no flip, 1 = horizontal flip, -1 = vertical flip)\n",
        "kernel_sizes = [3, 5, 7]  # Gaussian blur kernel sizes\n",
        "\n",
        "# Define the sizes to which the images will be resized\n",
        "image_sizes = [(256, 256)]\n"
      ]
    },
    {
      "cell_type": "code",
      "execution_count": null,
      "metadata": {
        "colab": {
          "base_uri": "https://localhost:8080/",
          "height": 767
        },
        "id": "9ECKZJCqwnCj",
        "outputId": "8c052bb8-11c9-45d4-b0e0-ad60f968e45d"
      },
      "outputs": [
        {
          "output_type": "stream",
          "name": "stdout",
          "text": [
            "Class: Mubashir | Number of images: 20\n",
            "Class: Ali Hassan | Number of images: 20\n",
            "Class: Sarmad | Number of images: 20\n",
            "Class: Abdullah_Jan | Number of images: 20\n",
            "Class: Mudassar | Number of images: 20\n",
            "Class: Ahmad | Number of images: 20\n",
            "Class: Talha | Number of images: 20\n",
            "Class: Hamza | Number of images: 20\n",
            "Class: Rana_Saad | Number of images: 20\n",
            "Class: Ehsaan | Number of images: 20\n",
            "Class: Ayesha_Umar | Number of images: 20\n",
            "Class: Adil Jabbar | Number of images: 22\n",
            "Class: Ayesha Asif | Number of images: 9\n",
            "Class: Sumayyah Sayyad | Number of images: 25\n",
            "Class: Maria Asghar | Number of images: 25\n"
          ]
        },
        {
          "output_type": "display_data",
          "data": {
            "text/plain": [
              "<Figure size 640x480 with 1 Axes>"
            ],
            "image/png": "[encoded data removed]"
          },
          "metadata": {}
        },
        {
          "output_type": "stream",
          "name": "stdout",
          "text": [
            "The number of classes is:  15\n",
            "The total number of images is:  301\n"
          ]
        }
      ],
      "source": [
        "import os\n",
        "import matplotlib.pyplot as plt\n",
        "\n",
        "# Set the path to the dataset\n",
        "dataset_path = \"/content/drive/MyDrive/Data/Writers/\"\n",
        "\n",
        "# Get a list of all the classes in the dataset\n",
        "classes = os.listdir(dataset_path)\n",
        "\n",
        "# Initialize an empty dictionary to store the number of images in each class\n",
        "class_counts = {}\n",
        "\n",
        "# Loop through each class and count the number of images\n",
        "for class_name in classes:\n",
        "    class_path = os.path.join(dataset_path, class_name)\n",
        "    class_images = os.listdir(class_path)\n",
        "    class_counts[class_name] = len(class_images)\n",
        "    print(\"Class:\", class_name, \"| Number of images:\", len(class_images))\n",
        "\n",
        "# Calculate the average number of images per class\n",
        "avg_images = sum(class_counts.values()) / len(class_counts)\n",
        "\n",
        "# Create a bar chart to visualize the number of images in each class\n",
        "plt.bar(range(len(class_counts)), list(class_counts.values()), align='center')\n",
        "plt.xticks(range(len(class_counts)), list(class_counts.keys()))\n",
        "plt.xlabel('Class')\n",
        "plt.ylabel('Number of images')\n",
        "plt.title('Number of images in each class')\n",
        "plt.show()\n",
        "\n",
        "# Print the average number of images per class, the number of classes, and the total number of images\n",
        "total_images = sum(class_counts.values())\n",
        "# print(\"The average number of images per class is: \", avg_images)\n",
        "print(\"The number of classes is: \", len(classes))\n",
        "print(\"The total number of images is: \", total_images)\n"
      ]
    },
    {
      "cell_type": "code",
      "source": [
        "# Create the folder if it does not exist\n",
        "if not os.path.exists(preprocessed_path):\n",
        "    os.makedirs(preprocessed_path)\n",
        "\n",
        "# Load the dataset and calculate class distribution\n",
        "labels = []\n",
        "for writer_folder in os.listdir(dataset_path):\n",
        "    writer_folder_path = os.path.join(dataset_path, writer_folder)\n",
        "    for image_path in os.listdir(writer_folder_path):\n",
        "        labels.append(writer_folder)\n",
        "class_distribution = np.unique(labels, return_counts=True)\n",
        "\n",
        "# Apply preprocessing techniques\n",
        "preprocessed_data = []\n",
        "for writer_folder in os.listdir(dataset_path):\n",
        "    writer_folder_path = os.path.join(dataset_path, writer_folder)\n",
        "    for image_path in os.listdir(writer_folder_path):\n",
        "        image_full_path = os.path.join(writer_folder_path, image_path)\n",
        "        image = cv2.imread(image_full_path)\n",
        "\n",
        "        # Apply preprocessing techniques\n",
        "        for technique in preprocessing_techniques:\n",
        "            if technique == 'grayscale':\n",
        "                image = cv2.cvtColor(image, cv2.COLOR_BGR2GRAY)\n",
        "            elif technique == 'imbalanced_data' and (class_distribution[1].std() / class_distribution[1].mean()) > 0.5:\n",
        "                # Apply imbalanced data technique only if there is a significant class imbalance\n",
        "                ros = RandomOverSampler(random_state=42)\n",
        "                reshaped_image = image.reshape(-1, image.shape[-1])\n",
        "                X_resampled, y_resampled = ros.fit_resample(reshaped_image, [writer_folder] * reshaped_image.shape[0])\n",
        "                image = X_resampled.reshape(image.shape[:-1])\n",
        "\n",
        "        # Save the preprocessed image in the directory with the directory of the class name\n",
        "        preprocessed_image_path = os.path.join(preprocessed_path, writer_folder, image_path)\n",
        "        os.makedirs(os.path.dirname(preprocessed_image_path), exist_ok=True)\n",
        "        cv2.imwrite(preprocessed_image_path, image)\n",
        "\n",
        "        # Append the preprocessed image to the list\n",
        "        preprocessed_data.append(image)\n"
      ],
      "metadata": {
        "id": "_fx5rgwB5-wm"
      },
      "execution_count": null,
      "outputs": []
    },
    {
      "cell_type": "code",
      "source": [
        "# Load the preprocessed images and apply augmentation techniques\n",
        "for class_name in os.listdir(preprocessed_path):\n",
        "    class_path = os.path.join(preprocessed_path, class_name)\n",
        "    for preprocessed_image_path in os.listdir(class_path):\n",
        "        preprocessed_image_full_path = os.path.join(class_path, preprocessed_image_path)\n",
        "        image = cv2.imread(preprocessed_image_full_path)\n",
        "\n",
        "        # Apply augmentation techniques\n",
        "        for angle in angles:\n",
        "            rotated_image = ndimage.rotate(image, angle)\n",
        "            augmented_image_path = os.path.join(class_path, f'rotated_{angle}_{preprocessed_image_path}')\n",
        "            cv2.imwrite(augmented_image_path, rotated_image)\n",
        "\n",
        "        for scale in scales:\n",
        "            zoomed_image = cv2.resize(image, None, fx=scale, fy=scale, interpolation=cv2.INTER_LINEAR)\n",
        "            augmented_image_path = os.path.join(class_path, f'zoomed_{scale}_{preprocessed_image_path}')\n",
        "            cv2.imwrite(augmented_image_path, zoomed_image)\n",
        "\n",
        "        for brightness in brightness_values:\n",
        "            brightness_adjusted_image = cv2.convertScaleAbs(image, beta=brightness)\n",
        "            augmented_image_path = os.path.join(class_path, f'brightness_{brightness}_{preprocessed_image_path}')\n",
        "            cv2.imwrite(augmented_image_path, brightness_adjusted_image)\n",
        "\n",
        "        for flip in flips:\n",
        "            flipped_image = cv2.flip(image, flip)\n",
        "            augmented_image_path = os.path.join(class_path, f'flipped_{flip}_{preprocessed_image_path}')\n",
        "            cv2.imwrite(augmented_image_path, flipped_image)\n",
        "\n",
        "        # Apply Gaussian blur\n",
        "        for kernel_size in kernel_sizes:\n",
        "            blurred_image = cv2.GaussianBlur(image, (kernel_size, kernel_size), 0)\n",
        "            augmented_image_path = os.path.join(class_path, f'blurred_{kernel_size}_{preprocessed_image_path}')\n",
        "            cv2.imwrite(augmented_image_path, blurred_image)\n",
        "\n",
        "        # Resize image and add to dataset\n",
        "        for size in image_sizes:\n",
        "            resized_image = cv2.resize(image, size)\n",
        "            augmented_image_path = os.path.join(class_path, f'resized_{size[0]}x{size[1]}_{preprocessed_image_path}')\n",
        "            cv2.imwrite(augmented_image_path, resized_image)\n"
      ],
      "metadata": {
        "id": "CHukaU6duWKF"
      },
      "execution_count": null,
      "outputs": []
    },
    {
      "cell_type": "code",
      "source": [
        "# Set the path to the dataset\n",
        "dataset_path = \"/content/drive/MyDrive/Data/Preprocessed_Images/\"\n",
        "\n",
        "# Get a list of all the classes in the dataset\n",
        "classes = os.listdir(dataset_path)\n",
        "\n",
        "# Initialize an empty dictionary to store the number of images in each class\n",
        "class_counts = {}\n",
        "\n",
        "# Loop through each class and count the number of images\n",
        "for class_name in classes:\n",
        "    class_path = os.path.join(dataset_path, class_name)\n",
        "    class_images = os.listdir(class_path)\n",
        "    class_counts[class_name] = len(class_images)\n",
        "    print(\"Class:\", class_name, \"| Number of images:\", len(class_images))\n",
        "\n",
        "# Calculate the average number of images per class\n",
        "avg_images = sum(class_counts.values()) / len(class_counts)\n",
        "\n",
        "# Create a bar chart to visualize the number of images in each class\n",
        "plt.bar(range(len(class_counts)), list(class_counts.values()), align='center')\n",
        "plt.xticks(range(len(class_counts)), list(class_counts.keys()))\n",
        "plt.xlabel('Class')\n",
        "plt.ylabel('Number of images')\n",
        "plt.title('Number of images in each class')\n",
        "plt.show()\n",
        "\n",
        "# Print the average number of images per class, the number of classes, and the total number of images\n",
        "total_images = sum(class_counts.values())\n",
        "# print(\"The average number of images per class is: \", avg_images)\n",
        "print(\"The number of classes is: \", len(classes))\n",
        "print(\"The total number of images is: \", total_images)\n"
      ],
      "metadata": {
        "colab": {
          "base_uri": "https://localhost:8080/",
          "height": 767
        },
        "id": "XxwnI8SL0I50",
        "outputId": "2986c9d2-3485-4c99-e561-fb4c24c3e105"
      },
      "execution_count": null,
      "outputs": [
        {
          "output_type": "stream",
          "name": "stdout",
          "text": [
            "Class: Mubashir | Number of images: 340\n",
            "Class: Ali Hassan | Number of images: 340\n",
            "Class: Sarmad | Number of images: 340\n",
            "Class: Abdullah_Jan | Number of images: 340\n",
            "Class: Mudassar | Number of images: 340\n",
            "Class: Ahmad | Number of images: 340\n",
            "Class: Talha | Number of images: 340\n",
            "Class: Hamza | Number of images: 340\n",
            "Class: Rana_Saad | Number of images: 340\n",
            "Class: Ehsaan | Number of images: 340\n",
            "Class: Ayesha_Umar | Number of images: 340\n",
            "Class: Adil Jabbar | Number of images: 374\n",
            "Class: Ayesha Asif | Number of images: 153\n",
            "Class: Sumayyah Sayyad | Number of images: 425\n",
            "Class: Maria Asghar | Number of images: 425\n"
          ]
        },
        {
          "output_type": "display_data",
          "data": {
            "text/plain": [
              "<Figure size 640x480 with 1 Axes>"
            ],
            "image/png": "[encoded data removed]"
          },
          "metadata": {}
        },
        {
          "output_type": "stream",
          "name": "stdout",
          "text": [
            "The number of classes is:  15\n",
            "The total number of images is:  5117\n"
          ]
        }
      ]
    },
    {
      "cell_type": "code",
      "source": [
        "# Load the preprocessed data\n",
        "X = []\n",
        "y = []\n",
        "for class_name in os.listdir(preprocessed_path):\n",
        "    class_path = os.path.join(preprocessed_path, class_name)\n",
        "    for preprocessed_image_path in os.listdir(class_path):\n",
        "        preprocessed_image_full_path = os.path.join(class_path, preprocessed_image_path)\n",
        "        image = cv2.imread(preprocessed_image_full_path)\n",
        "        \n",
        "        # Resize the image to 100x100\n",
        "        resized_image = cv2.resize(image, (100, 100))\n",
        "        \n",
        "        X.append(resized_image.flatten())\n",
        "        y.append(class_name)\n",
        "\n",
        "# Split the data into training and testing sets\n",
        "X_train, X_test, y_train, y_test = train_test_split(X, y, test_size=0.2, random_state=42)\n",
        "\n",
        "# Train the SVM model with a specified number of epochs\n",
        "svm_model = svm.SVC(kernel='linear', C=1.0, probability=True)\n",
        "num_epochs = 1\n",
        "for epoch in range(num_epochs):\n",
        "    svm_model.fit(X_train, y_train)\n",
        "    train_accuracy = svm_model.score(X_train, y_train)\n",
        "    test_accuracy = svm_model.score(X_test, y_test)\n",
        "    print(f\"Epoch {epoch+1}: Training accuracy={train_accuracy}, Testing accuracy={test_accuracy}\")"
      ],
      "metadata": {
        "id": "Zui511xiAkVr",
        "colab": {
          "base_uri": "https://localhost:8080/"
        },
        "outputId": "9f3b61b0-6dc4-45fa-9e58-1be771aee98a"
      },
      "execution_count": null,
      "outputs": [
        {
          "output_type": "stream",
          "name": "stdout",
          "text": [
            "Epoch 1: Training accuracy=1.0, Testing accuracy=0.94921875\n"
          ]
        }
      ]
    },
    {
      "cell_type": "code",
      "source": [
        "# Save the trained SVM model to disk\n",
        "with open('/content/drive/MyDrive/Data/svm_model.pkl', 'wb') as f:\n",
        "    pickle.dump(svm_model, f)"
      ],
      "metadata": {
        "id": "AXMGfmpOAkRe"
      },
      "execution_count": null,
      "outputs": []
    },
    {
      "cell_type": "code",
      "source": [
        "# Set the decision threshold\n",
        "decision_threshold = 0.9\n",
        "\n",
        "# Load the saved model from disk\n",
        "with open('/content/drive/MyDrive/Data/svm_model.pkl', 'rb') as f:\n",
        "    svm_model = pickle.load(f)\n",
        "\n",
        "new_image_path = '/content/drive/MyDrive/Data/Writers/Ali Hassan/image_1.png'\n",
        "\n",
        "# Load a new test image and preprocess it\n",
        "new_image = cv2.imread(new_image_path)\n",
        "resized_new_image = cv2.resize(new_image, (100, 100))\n",
        "flattened_new_image = resized_new_image.flatten()\n",
        "\n",
        "# Predict the writer's name on the new test image\n",
        "predicted_probabilities = svm_model.predict_proba([flattened_new_image])\n",
        "\n",
        "if max(predicted_probabilities[0]) >= decision_threshold:\n",
        "    predicted_name = svm_model.classes_[np.argmax(predicted_probabilities)]\n",
        "    predicted_probability = max(predicted_probabilities[0])\n",
        "    # Check if the confidence level is 90% or above\n",
        "    if predicted_probability >= 0.9:\n",
        "        predicted_class_indices = svm_model.predict([flattened_new_image])\n",
        "        predicted_class_index = np.argmax(predicted_class_indices)\n",
        "        predicted_class_name = svm_model.classes_[predicted_class_index]\n",
        "        print(f\"The predicted writer's name is {predicted_name} with a confidence level of {predicted_probability * 100:.2f}%\")\n",
        "\n",
        "else:\n",
        "    predicted_probability = max(predicted_probabilities[0])\n",
        "    print(f\"The writer of the image is Unknown\")\n",
        "    print(f\"The predicted writer's name could not be determined due to insufficient confidence level of {predicted_probability * 100:.2f}%.\")\n",
        "    # predicted_name = \"Unknown\"\n"
      ],
      "metadata": {
        "id": "Wanpas7_a_Up"
      },
      "execution_count": null,
      "outputs": []
    }
  ],
  "metadata": {
    "colab": {
      "provenance": []
    },
    "gpuClass": "standard",
    "kernelspec": {
      "display_name": "Python 3",
      "name": "python3"
    },
    "language_info": {
      "name": "python"
    }
  },
  "nbformat": 4,
  "nbformat_minor": 0
}